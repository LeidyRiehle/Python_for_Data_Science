{
 "cells": [
  {
   "cell_type": "markdown",
   "metadata": {},
   "source": [
    "## Python Study Group\n",
    "### Week 1\n",
    "\n",
    "**Getting Started with JUPYTER NOTEBOOK**\n",
    "\n",
    "1. Download and Install Anaconda Distribution\n",
    "    * Go to https://www.anaconda.com/products/distribution\n",
    "\n",
    "\n",
    "2. After you finished downloading, install Anaconda using one of these guides:\n",
    "    * For Windows\n",
    "    https://docs.anaconda.com/anaconda/install/windows/ \n",
    "    * For macOS\n",
    "    https://docs.anaconda.com/anaconda/install/mac-os/\n",
    "    * For Linux\n",
    "    https://docs.anaconda.com/anaconda/install/linux/\n",
    "\n",
    "\n",
    "3. Launch Jupyter Navigator\n",
    "    * After you finished installing Anaconda, open the Anaconda Navigator and launch Jupyter Notebook by following the instructions here https://docs.anaconda.com/anaconda/user-guide/getting-started/#open-nav-win"
   ]
  },
  {
   "cell_type": "code",
   "execution_count": 14,
   "metadata": {},
   "outputs": [],
   "source": [
    "# Add your data\n",
    "# Data Source: https://www.kaggle.com/datasets/danielgrijalvas/movies\n",
    "# File was downloaded and saved at C:\\Users\\leidy\\Documents\\02_STUDY\\Coursera\\Python\\movies.csv\n",
    "\n",
    "import pandas as pd\n",
    "\n",
    "movies = pd.read_csv(r'C:/Users/leidy/Documents/02_STUDY/Coursera/Python\\movies.csv')"
   ]
  },
  {
   "cell_type": "code",
   "execution_count": null,
   "metadata": {},
   "outputs": [],
   "source": []
  }
 ],
 "metadata": {
  "kernelspec": {
   "display_name": "Python 3",
   "language": "python",
   "name": "python3"
  },
  "language_info": {
   "codemirror_mode": {
    "name": "ipython",
    "version": 3
   },
   "file_extension": ".py",
   "mimetype": "text/x-python",
   "name": "python",
   "nbconvert_exporter": "python",
   "pygments_lexer": "ipython3",
   "version": "3.8.5"
  }
 },
 "nbformat": 4,
 "nbformat_minor": 4
}
