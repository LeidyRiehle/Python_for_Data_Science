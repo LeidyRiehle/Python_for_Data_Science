{
 "cells": [
  {
   "cell_type": "markdown",
   "metadata": {},
   "source": [
    "## Python Study Group\n",
    "### Week 1\n",
    "\n",
    "**Getting Started with JUPYTER NOTEBOOK**\n",
    "\n",
    "1 Download and Install Anaconda Distribution\n",
    "  * Go to https://www.anaconda.com/products/distribution\n",
    "\n",
    "\n",
    "2 After you finished downloading, install Anaconda using one of these guides:\n",
    "  * For Windows\n",
    "    https://docs.anaconda.com/anaconda/install/windows/ \n",
    "  * For macOS\n",
    "    https://docs.anaconda.com/anaconda/install/mac-os/\n",
    "  * For Linux\n",
    "    https://docs.anaconda.com/anaconda/install/linux/\n",
    "\n",
    "\n",
    "3 Launch Jupyter Navigator\n",
    "  * After you finished installing Anaconda, open the Anaconda Navigator and launch Jupyter Notebook by following the instructions here https://docs.anaconda.com/anaconda/user-guide/getting-started/#open-nav-win"
   ]
  },
  {
   "cell_type": "code",
   "execution_count": null,
   "metadata": {},
   "outputs": [],
   "source": [
    "# Add your data\n",
    "# Data Source: https://www.kaggle.com/datasets/danielgrijalvas/movies\n",
    "# File was downloaded and saved at C:/Users/leidy/Documents/02_STUDY/Coursera/Python/movies.csv\n",
    "\n",
    "import pandas as pd\n",
    "\n",
    "movies = pd.read_csv(r'C:/Users/leidy/Documents/02_STUDY/Coursera/Python/movies.csv') "
   ]
  },
  {
   "cell_type": "markdown",
   "metadata": {},
   "source": [
    "## Python Study Group\n",
    "### Week 2\n",
    "\n",
    "**Hello World**\n",
    "\n",
    "1 Download Atom\n",
    "\n",
    "2 Create a .py file\n",
    "\n",
    "3 How to open a file from Atom\n",
    "\n",
    "    Open Atom\n",
    "    Go to File\n",
    "    Go to Open File\n",
    "    Select file\n",
    "\n",
    "4 How to run a program in Command prompt\n",
    "\n",
    "    Open Command prompt\n",
    "    dir (see the folders you're in)\n",
    "    cd Desktop\n",
    "    cd py4e\n",
    "    dir\n",
    "    python first.py (run code) or first.py (run code in Windows)\n"
   ]
  },
  {
   "cell_type": "code",
   "execution_count": null,
   "metadata": {},
   "outputs": [],
   "source": [
    "print('Hello world!')"
   ]
  },
  {
   "cell_type": "markdown",
   "metadata": {},
   "source": [
    "## Python Study Group\n",
    "### Week 3\n",
    "\n",
    "Read **Chapter 1** \n",
    "Book Link https://books.trinket.io/pfe/01-intro.html\n",
    "\n",
    "Write Paragraphs of Code\n",
    "\n",
    "Interactive => directly in Python\n",
    "\n",
    "Scripts => instruction in text files\n",
    "\n",
    "Patterns: \n",
    "\n",
    "Sequential \n",
    "\n",
    "Conditional \n",
    "\n",
    "Repeated Steps\n",
    "\n",
    "Store and retrieve\n",
    "\n"
   ]
  },
  {
   "cell_type": "code",
   "execution_count": 3,
   "metadata": {},
   "outputs": [
    {
     "name": "stdout",
     "output_type": "stream",
     "text": [
      "2\n",
      "4\n"
     ]
    }
   ],
   "source": [
    "# Sequential\n",
    "# Variable\n",
    "\n",
    "x = 2\n",
    "print(x)\n",
    "x = x + 2\n",
    "print(x)"
   ]
  },
  {
   "cell_type": "code",
   "execution_count": 5,
   "metadata": {},
   "outputs": [
    {
     "name": "stdout",
     "output_type": "stream",
     "text": [
      "Bigger\n",
      "Finis\n"
     ]
    }
   ],
   "source": [
    "# Conditional\n",
    "# If statement\n",
    "\n",
    "x = 50\n",
    "if x < 10:\n",
    "    print('Smaller')\n",
    "if x > 20:\n",
    "    print('Bigger')   \n",
    "print('Finis')"
   ]
  },
  {
   "cell_type": "code",
   "execution_count": 10,
   "metadata": {},
   "outputs": [
    {
     "name": "stdout",
     "output_type": "stream",
     "text": [
      "5\n",
      "4\n",
      "3\n",
      "2\n",
      "1\n",
      "Blastoff!\n"
     ]
    }
   ],
   "source": [
    "# Repeated Steps \n",
    "# Loops\n",
    "\n",
    "n = 5\n",
    "while n > 0:\n",
    "    print(n)\n",
    "    n =n - 1\n",
    "print('Blastoff!')"
   ]
  },
  {
   "cell_type": "code",
   "execution_count": 11,
   "metadata": {},
   "outputs": [
    {
     "name": "stdout",
     "output_type": "stream",
     "text": [
      "Enter File:CountingWords.txt\n",
      "is 8\n"
     ]
    }
   ],
   "source": [
    "# Store and Retrieve\n",
    "\n",
    "name = input('Enter File:')\n",
    "handle = open(name, 'r')\n",
    "\n",
    "counts = dict()\n",
    "for line in handle:\n",
    "    words = line.split()\n",
    "    for word in words:\n",
    "        counts[word] = counts.get(word,0) + 1\n",
    "\n",
    "bigcount = None\n",
    "bigword = None\n",
    "for word, count in counts.items():\n",
    "    if bigcount is None or count > bigcount:\n",
    "        bigword = word\n",
    "        bigcount = count\n",
    "        \n",
    "print(bigword, bigcount)"
   ]
  },
  {
   "cell_type": "code",
   "execution_count": null,
   "metadata": {},
   "outputs": [],
   "source": []
  }
 ],
 "metadata": {
  "kernelspec": {
   "display_name": "Python 3",
   "language": "python",
   "name": "python3"
  },
  "language_info": {
   "codemirror_mode": {
    "name": "ipython",
    "version": 3
   },
   "file_extension": ".py",
   "mimetype": "text/x-python",
   "name": "python",
   "nbconvert_exporter": "python",
   "pygments_lexer": "ipython3",
   "version": "3.8.5"
  }
 },
 "nbformat": 4,
 "nbformat_minor": 4
}
