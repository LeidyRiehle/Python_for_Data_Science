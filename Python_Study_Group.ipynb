{
 "cells": [
  {
   "cell_type": "markdown",
   "metadata": {},
   "source": [
    "## Python Study Group\n",
    "### Week 1\n",
    "\n",
    "**Getting Started with JUPYTER NOTEBOOK**\n",
    "\n",
    "1 Download and Install Anaconda Distribution\n",
    "  * Go to https://www.anaconda.com/products/distribution\n",
    "\n",
    "\n",
    "2 After you finished downloading, install Anaconda using one of these guides:\n",
    "  * For Windows\n",
    "    https://docs.anaconda.com/anaconda/install/windows/ \n",
    "  * For macOS\n",
    "    https://docs.anaconda.com/anaconda/install/mac-os/\n",
    "  * For Linux\n",
    "    https://docs.anaconda.com/anaconda/install/linux/\n",
    "\n",
    "\n",
    "3 Launch Jupyter Navigator\n",
    "  * After you finished installing Anaconda, open the Anaconda Navigator and launch Jupyter Notebook by following the instructions here https://docs.anaconda.com/anaconda/user-guide/getting-started/#open-nav-win"
   ]
  },
  {
   "cell_type": "code",
   "execution_count": null,
   "metadata": {},
   "outputs": [],
   "source": [
    "# Add your data\n",
    "# Data Source: https://www.kaggle.com/datasets/danielgrijalvas/movies\n",
    "# File was downloaded and saved at C:/Users/leidy/Documents/02_STUDY/Coursera/Python/movies.csv\n",
    "\n",
    "import pandas as pd\n",
    "\n",
    "movies = pd.read_csv(r'C:/Users/leidy/Documents/02_STUDY/Coursera/Python/movies.csv') "
   ]
  },
  {
   "cell_type": "markdown",
   "metadata": {},
   "source": [
    "## Python Study Group\n",
    "### Week 2\n",
    "\n",
    "**Hello World**\n",
    "\n",
    "1 Download Atom\n",
    "\n",
    "2 Create a .py file\n",
    "\n",
    "3 How to open a file from Atom\n",
    "\n",
    "    Open Atom\n",
    "    Go to File\n",
    "    Go to Open File\n",
    "    Select file\n",
    "\n",
    "4 How to run a program in Command prompt\n",
    "\n",
    "    Open Command prompt\n",
    "    dir (see the folders you're in)\n",
    "    cd Desktop\n",
    "    cd py4e\n",
    "    dir\n",
    "    python first.py (run code) or first.py (run code in Windows)\n"
   ]
  },
  {
   "cell_type": "code",
   "execution_count": 1,
   "metadata": {},
   "outputs": [
    {
     "name": "stdout",
     "output_type": "stream",
     "text": [
      "Hello world!\n"
     ]
    }
   ],
   "source": [
    "print('Hello world!')"
   ]
  },
  {
   "cell_type": "markdown",
   "metadata": {},
   "source": [
    "## Python Study Group\n",
    "### Week 3\n",
    "\n",
    "Read **Chapter 1** \n",
    "Book Link https://books.trinket.io/pfe/01-intro.html\n",
    "\n",
    "Write Paragraphs of Code\n",
    "\n",
    "Interactive => directly in Python\n",
    "\n",
    "Scripts => instruction in text files\n",
    "\n",
    "Patterns: \n",
    "\n",
    "Sequential \n",
    "\n",
    "Conditional \n",
    "\n",
    "Repeated Steps\n",
    "\n",
    "Store and retrieve\n",
    "\n"
   ]
  },
  {
   "cell_type": "code",
   "execution_count": 2,
   "metadata": {},
   "outputs": [
    {
     "name": "stdout",
     "output_type": "stream",
     "text": [
      "2\n",
      "4\n"
     ]
    }
   ],
   "source": [
    "# Sequential\n",
    "# Variable\n",
    "\n",
    "x = 2\n",
    "print(x)\n",
    "x = x + 2\n",
    "print(x)"
   ]
  },
  {
   "cell_type": "code",
   "execution_count": 3,
   "metadata": {},
   "outputs": [
    {
     "name": "stdout",
     "output_type": "stream",
     "text": [
      "Bigger\n",
      "Finis\n"
     ]
    }
   ],
   "source": [
    "# Conditional\n",
    "# If statement\n",
    "\n",
    "x = 50\n",
    "if x < 10:\n",
    "    print('Smaller')\n",
    "if x > 20:\n",
    "    print('Bigger')   \n",
    "print('Finis')"
   ]
  },
  {
   "cell_type": "code",
   "execution_count": 4,
   "metadata": {},
   "outputs": [
    {
     "name": "stdout",
     "output_type": "stream",
     "text": [
      "5\n",
      "4\n",
      "3\n",
      "2\n",
      "1\n",
      "Blastoff!\n"
     ]
    }
   ],
   "source": [
    "# Repeated Steps \n",
    "# Loops\n",
    "\n",
    "n = 5\n",
    "while n > 0:\n",
    "    print(n)\n",
    "    n =n - 1\n",
    "print('Blastoff!')"
   ]
  },
  {
   "cell_type": "code",
   "execution_count": 5,
   "metadata": {},
   "outputs": [
    {
     "name": "stdout",
     "output_type": "stream",
     "text": [
      "Enter File:CountingWords.txt\n",
      "is 8\n"
     ]
    }
   ],
   "source": [
    "# Store and Retrieve\n",
    "\n",
    "name = input('Enter File:')\n",
    "handle = open(name, 'r')\n",
    "\n",
    "counts = dict()\n",
    "for line in handle:\n",
    "    words = line.split()\n",
    "    for word in words:\n",
    "        counts[word] = counts.get(word,0) + 1\n",
    "\n",
    "bigcount = None\n",
    "bigword = None\n",
    "for word, count in counts.items():\n",
    "    if bigcount is None or count > bigcount:\n",
    "        bigword = word\n",
    "        bigcount = count\n",
    "        \n",
    "print(bigword, bigcount)"
   ]
  },
  {
   "cell_type": "markdown",
   "metadata": {},
   "source": [
    "## Python Study Group\n",
    "### Week 4\n",
    "\n",
    "Read **Chapter 2** \n",
    "Book Link https://books.trinket.io/pfe/01-intro.html\n",
    "\n",
    "Variables and Expressions\n",
    "\n",
    "In this chapter we cover how a program uses the computer's memory to store, retrieve and calculate information."
   ]
  },
  {
   "cell_type": "code",
   "execution_count": 6,
   "metadata": {},
   "outputs": [
    {
     "name": "stdout",
     "output_type": "stream",
     "text": [
      "<class 'float'>\n",
      "0.3333333333333333\n",
      "<class 'decimal.Decimal'>\n",
      "0.3333333333333333333333333333\n"
     ]
    }
   ],
   "source": [
    "# Type for money\n",
    "# Float Vs Decimal\n",
    "\n",
    "x = 1 / 3\n",
    "print(type(x))\n",
    "print(x)\n",
    "\n",
    "\n",
    "from decimal import Decimal \n",
    "y = Decimal(1) / Decimal(3)\n",
    "print(type(y))\n",
    "print(y)"
   ]
  },
  {
   "cell_type": "code",
   "execution_count": 7,
   "metadata": {},
   "outputs": [
    {
     "name": "stdout",
     "output_type": "stream",
     "text": [
      "Europe floor?35\n",
      "US floor  36\n"
     ]
    }
   ],
   "source": [
    "# User input => Input, processing and output\n",
    "\n",
    "inp = input('Europe floor?')\n",
    "usf = int(inp) + 1\n",
    "print('US floor ', usf)\n"
   ]
  },
  {
   "cell_type": "markdown",
   "metadata": {},
   "source": [
    "## Python Study Group\n",
    "### Week 5\n",
    "\n",
    "Read **Chapter 3** \n",
    "Book Link https://books.trinket.io/pfe/01-intro.html\n",
    "\n",
    "Conditional Code\n",
    "\n",
    "In this section we move from sequential code that simply runs one line of code after another to conditional code where some steps are skipped. It is a very simple concept - but it is how computer software makes \"choices\"."
   ]
  },
  {
   "cell_type": "code",
   "execution_count": 8,
   "metadata": {},
   "outputs": [
    {
     "name": "stdout",
     "output_type": "stream",
     "text": [
      "Smaller\n"
     ]
    }
   ],
   "source": [
    "# Comment All : press \"CTRL\" key and \"/\" \n",
    "\n",
    "#Conditional Steps\n",
    "\n",
    "#Indenting notion. Recommended pattern: 4 spaces\n",
    "\n",
    "x = 5\n",
    "if x < 10:\n",
    "    print('Smaller')\n",
    "if x > 20:\n",
    "    print('Bigger')\n",
    "\n",
    "    print('End')"
   ]
  },
  {
   "cell_type": "code",
   "execution_count": 9,
   "metadata": {},
   "outputs": [
    {
     "name": "stdout",
     "output_type": "stream",
     "text": [
      "Before 5\n",
      "Is 5\n",
      "Is Still 5\n",
      "Third 5\n",
      "Afterwards 5\n",
      "Before 6\n",
      "Afterwards 6\n"
     ]
    }
   ],
   "source": [
    "# One-Way Decisions\n",
    "\n",
    "x = 5\n",
    "print('Before 5')\n",
    "if x == 5:\n",
    "    print('Is 5')\n",
    "    print('Is Still 5')\n",
    "    print('Third 5')\n",
    "print('Afterwards 5')\n",
    "print('Before 6')\n",
    "if x == 6:\n",
    "    print('Is 6')\n",
    "    print('Is Still 6')\n",
    "    print('Third 6')\n",
    "print('Afterwards 6')"
   ]
  },
  {
   "cell_type": "code",
   "execution_count": 10,
   "metadata": {},
   "outputs": [
    {
     "name": "stdout",
     "output_type": "stream",
     "text": [
      "More than one\n",
      "Less than 100\n",
      "All done\n"
     ]
    }
   ],
   "source": [
    "# Nested Decisions\n",
    "\n",
    "x= 42\n",
    "if x > 1 :\n",
    "    print('More than one')\n",
    "    if x < 100 :\n",
    "        print('Less than 100')\n",
    "print('All done')"
   ]
  },
  {
   "cell_type": "code",
   "execution_count": 11,
   "metadata": {},
   "outputs": [
    {
     "name": "stdout",
     "output_type": "stream",
     "text": [
      "Bigger\n",
      "All done\n"
     ]
    }
   ],
   "source": [
    "# Two-way Decisions with else\n",
    "\n",
    "x = 4\n",
    "\n",
    "if x > 2 :\n",
    "    print('Bigger')\n",
    "else: \n",
    "    print('Smaller')\n",
    "print('All done')"
   ]
  },
  {
   "cell_type": "code",
   "execution_count": 12,
   "metadata": {},
   "outputs": [
    {
     "name": "stdout",
     "output_type": "stream",
     "text": [
      "medium\n",
      "All done\n"
     ]
    }
   ],
   "source": [
    "# Multi level elif\n",
    "\n",
    "if x < 2 :\n",
    "    print('small')\n",
    "elif x < 10 :\n",
    "    print('medium')\n",
    "else : \n",
    "    print('LARGE')\n",
    "print('All done')\n"
   ]
  },
  {
   "cell_type": "code",
   "execution_count": 13,
   "metadata": {},
   "outputs": [
    {
     "name": "stdout",
     "output_type": "stream",
     "text": [
      "First -1\n",
      "Second 123\n"
     ]
    }
   ],
   "source": [
    "#The Try / Except Structure\n",
    "\n",
    "astr = 'Hello Bob'\n",
    "try:\n",
    "    istr = int(astr)\n",
    "except:\n",
    "    istr = -1\n",
    "\n",
    "print('First', istr)\n",
    "\n",
    "astr = '123'\n",
    "try:\n",
    "    istr = int(astr)\n",
    "except:\n",
    "    istr = -1\n",
    "\n",
    "print('Second', istr)"
   ]
  },
  {
   "cell_type": "code",
   "execution_count": 14,
   "metadata": {},
   "outputs": [
    {
     "name": "stdout",
     "output_type": "stream",
     "text": [
      "Enter a number:Hello\n",
      "Not a number\n"
     ]
    }
   ],
   "source": [
    "# The Try / Except Structure and if-statement\n",
    "\n",
    "rawstr = input('Enter a number:')\n",
    "try:\n",
    "    ival = int(rawstr)\n",
    "except:\n",
    "    ival = -1\n",
    "\n",
    "if ival > 0 :\n",
    "    print('Nice Work!')\n",
    "else:\n",
    "    print('Not a number')"
   ]
  },
  {
   "cell_type": "code",
   "execution_count": 15,
   "metadata": {},
   "outputs": [
    {
     "name": "stdout",
     "output_type": "stream",
     "text": [
      "Enter a number:5\n",
      "Nice Work!\n"
     ]
    }
   ],
   "source": [
    "# The Try / Except Structure and if-statement\n",
    "\n",
    "rawstr = input('Enter a number:')\n",
    "try:\n",
    "    ival = int(rawstr)\n",
    "except:\n",
    "    ival = -1\n",
    "\n",
    "if ival > 0 :\n",
    "    print('Nice Work!')\n",
    "else:\n",
    "    print('Not a number')"
   ]
  },
  {
   "cell_type": "code",
   "execution_count": 16,
   "metadata": {},
   "outputs": [
    {
     "name": "stdout",
     "output_type": "stream",
     "text": [
      "Enter Hours:45\n",
      "Enter rate per hour:60.50\n",
      "45.0 60.5\n",
      "Pay:  2873.75\n"
     ]
    }
   ],
   "source": [
    "# Check for user input error\n",
    "\n",
    "hrs = input(\"Enter Hours:\")\n",
    "rate = input(\"Enter rate per hour:\")\n",
    "\n",
    "try:\n",
    "    h = float(hrs)\n",
    "    r = float(rate)\n",
    "    print(h, r) \n",
    "    nextstep = 'Continue'\n",
    "except:\n",
    "    nextstep = 'Stop' \n",
    "    \n",
    "if nextstep == 'Continue' :\n",
    "    if h > 40 : \n",
    "        output = (40 * r) + ((h - 40) * (r + ( r / 2) ))\n",
    "    else :\n",
    "        output = (h * r)\n",
    "    print(\"Pay: \" , output)\n",
    "else :\n",
    "     print('Error, please enter numeric input')"
   ]
  },
  {
   "cell_type": "code",
   "execution_count": 17,
   "metadata": {},
   "outputs": [
    {
     "name": "stdout",
     "output_type": "stream",
     "text": [
      "Enter Score: .85\n",
      "B\n"
     ]
    }
   ],
   "source": [
    "# Write a program to prompt for a score between 0.0 and 1.0. \n",
    "# If the score is out of range, print an error. \n",
    "# If the score is between 0.0 and 1.0, print a grade using the following table:\n",
    "# Score Grade\n",
    "# >= 0.9 A\n",
    "# >= 0.8 B\n",
    "# >= 0.7 C\n",
    "# >= 0.6 D\n",
    "# < 0.6 F\n",
    "# If the user enters a value out of range, print a suitable error message and exit. \n",
    "# For the test, enter a score of 0.85.\n",
    "\n",
    "score = input(\"Enter Score: \")\n",
    "iscore = float(score)\n",
    "\n",
    "if iscore > 0 and iscore < 1 :\n",
    "    if iscore >= 0.9 :\n",
    "        print('A')\n",
    "    elif iscore >= 0.8 :\n",
    "        print('B') \n",
    "    elif iscore >= 0.7 :\n",
    "        print('C') \n",
    "    elif iscore >= 0.6 :\n",
    "        print('D')\n",
    "    else :\n",
    "        print('F')     \n",
    "else:\n",
    "    print('Value out of range')"
   ]
  },
  {
   "cell_type": "markdown",
   "metadata": {},
   "source": [
    "## Python Study Group\n",
    "### Week 6\n",
    "\n",
    "Read **Chapter 4** \n",
    "Book Link https://books.trinket.io/pfe/01-intro.html\n",
    "\n",
    "\n",
    "This is a relatively short chapter. We will learn about what functions are and how we can use them. The programs in the first chapters of the book are not large enough to require us to develop functions, but as the book moves into more and more complex programs, functions will be an essential way for us to make sense of our code."
   ]
  },
  {
   "cell_type": "code",
   "execution_count": 18,
   "metadata": {},
   "outputs": [
    {
     "name": "stdout",
     "output_type": "stream",
     "text": [
      "Hello\n",
      "Fun\n",
      "Zip\n",
      "Hello\n",
      "Fun\n"
     ]
    }
   ],
   "source": [
    "# Store (and reused) Steps\n",
    "# Functions are similar to variables, except that functions holds code. \n",
    "\n",
    "def thing(): #define using def key word\n",
    "    print('Hello')\n",
    "    print('Fun')\n",
    "thing() #invoke/call function\n",
    "print('Zip')\n",
    "thing() #Don't repeat yourself part!"
   ]
  },
  {
   "cell_type": "code",
   "execution_count": 19,
   "metadata": {},
   "outputs": [
    {
     "name": "stdout",
     "output_type": "stream",
     "text": [
      "r\n",
      "-2.5\n",
      "123\n"
     ]
    },
    {
     "data": {
      "text/plain": [
       "str"
      ]
     },
     "execution_count": 19,
     "metadata": {},
     "output_type": "execute_result"
    }
   ],
   "source": [
    "# Built-in functions \n",
    "\n",
    "# max() min()\n",
    "big = max('Hello World')\n",
    "print(big)\n",
    "\n",
    "# Type Conversions\n",
    "print(1 + 2 * float(3) / 4 - 5 )\n",
    "\n",
    "# String Conversions\n",
    "sval = '123'\n",
    "type(sval)\n",
    "ival = int(sval)\n",
    "print(ival)\n",
    "type(sval)"
   ]
  },
  {
   "cell_type": "code",
   "execution_count": 20,
   "metadata": {},
   "outputs": [
    {
     "name": "stdout",
     "output_type": "stream",
     "text": [
      "Hello\n",
      "Yo\n",
      "7\n"
     ]
    }
   ],
   "source": [
    "#Building Functions\n",
    "\n",
    "x = 5\n",
    "print('Hello')\n",
    "\n",
    "def print_lyrics():\n",
    "    print(\"I'm a lumberjack, and I'm okay.\")\n",
    "    print('I sleep all night and I work all day')\n",
    "\n",
    "print('Yo')\n",
    "x = x + 2\n",
    "print(x)"
   ]
  },
  {
   "cell_type": "code",
   "execution_count": 21,
   "metadata": {},
   "outputs": [
    {
     "name": "stdout",
     "output_type": "stream",
     "text": [
      "Hello\n",
      "Yo\n",
      "I'm a lumberjack, and I'm okay.\n",
      "I sleep all night and I work all day\n",
      "7\n",
      "I'm a lumberjack, and I'm okay.\n",
      "I sleep all night and I work all day\n"
     ]
    }
   ],
   "source": [
    "# Invoke the function\n",
    "x = 5\n",
    "print('Hello')\n",
    "\n",
    "def print_lyrics():\n",
    "    print(\"I'm a lumberjack, and I'm okay.\")\n",
    "    print('I sleep all night and I work all day')\n",
    "\n",
    "print('Yo')\n",
    "print_lyrics() #invoke\n",
    "x = x + 2\n",
    "print(x)\n",
    "print_lyrics()"
   ]
  },
  {
   "cell_type": "code",
   "execution_count": 22,
   "metadata": {},
   "outputs": [
    {
     "name": "stdout",
     "output_type": "stream",
     "text": [
      "Hello\n",
      "Hola\n",
      "Bonjour\n"
     ]
    }
   ],
   "source": [
    "# Parameters\n",
    "\n",
    "def greet(lang):\n",
    "    if lang == 'es':\n",
    "        print('Hola')\n",
    "    elif lang == 'fr':\n",
    "        print('Bonjour')\n",
    "    else:\n",
    "        print('Hello')\n",
    "        \n",
    "greet('en') # 'en' is the parameter alias \n",
    "\n",
    "greet('es')\n",
    "\n",
    "greet('fr')"
   ]
  },
  {
   "cell_type": "code",
   "execution_count": 23,
   "metadata": {},
   "outputs": [
    {
     "name": "stdout",
     "output_type": "stream",
     "text": [
      "8\n"
     ]
    }
   ],
   "source": [
    "# Multiple Parameter / Arguments\n",
    "# the order matters. \n",
    "\n",
    "def addtwo(a, b):\n",
    "    added = a + b\n",
    "    return added\n",
    "\n",
    "x = addtwo(3,5)\n",
    "print(x)\n"
   ]
  },
  {
   "cell_type": "code",
   "execution_count": 24,
   "metadata": {},
   "outputs": [
    {
     "name": "stdout",
     "output_type": "stream",
     "text": [
      "Enter Hours:45\n",
      "Pay 42.37\n"
     ]
    }
   ],
   "source": [
    "# Assigment\n",
    "\n",
    "# Write a program to prompt the user for hours and rate per hour using input to compute gross pay. \n",
    "# Pay should be the normal rate for hours up to 40 \n",
    "# and time-and-a-half for the hourly rate for all hours worked above 40 hours. \n",
    "# Put the logic to do the computation of pay in a function called computepay() \n",
    "# and use the function to do the computation. \n",
    "# The function should return a value. \n",
    "# You should use input to read a string and float() to convert the string to a number. \n",
    "# Do not worry about error checking the user input unless you want to \n",
    "# you can assume the user types numbers properly. \n",
    "# Do not name your variable sum or use the sum() function.\n",
    "\n",
    "# Use 45 hours and a rate of 10.50 per hour to test the program (the pay should be 498.75). \n",
    "\n",
    "\n",
    "def computepay(h, r):\n",
    "    return 42.37\n",
    "\n",
    "hrs = input(\"Enter Hours:\")\n",
    "p = computepay(10, 20)\n",
    "print(\"Pay\", p)"
   ]
  },
  {
   "cell_type": "code",
   "execution_count": 25,
   "metadata": {},
   "outputs": [
    {
     "name": "stdout",
     "output_type": "stream",
     "text": [
      "Enter Hours:45\n",
      "Enter rate per hour:60\n",
      "Pay 2850.0\n"
     ]
    }
   ],
   "source": [
    "# Solution\n",
    "\n",
    "# Write a program to prompt the user for hours and rate per hour using input to compute gross pay. \n",
    "# Pay should be the normal rate for hours up to 40 \n",
    "# and time-and-a-half for the hourly rate for all hours worked above 40 hours. \n",
    "# Put the logic to do the computation of pay in a function called computepay() \n",
    "# and use the function to do the computation. \n",
    "# The function should return a value. \n",
    "# Use 45 hours and a rate of 10.50 per hour to test the program (the pay should be 498.75). \n",
    "# You should use input to read a string and float() to convert the string to a number. \n",
    "# Do not worry about error checking the user input unless you want to \n",
    "# you can assume the user types numbers properly. \n",
    "# Do not name your variable sum or use the sum() function.\n",
    "\n",
    "\n",
    "def computepay(h, r):\n",
    "    if h > 40 : \n",
    "        output = (40 * r) + ((h - 40) * (r + ( r / 2) ))\n",
    "    else :\n",
    "        output = (h * r)       \n",
    "    return output\n",
    "\n",
    "hrs = input(\"Enter Hours:\")\n",
    "rate = input(\"Enter rate per hour:\")\n",
    "\n",
    "h = float(hrs)\n",
    "r = float(rate)\n",
    "\n",
    "p = computepay(h,r) #invoke function\n",
    "\n",
    "print(\"Pay\", p) #print function"
   ]
  }
 ],
 "metadata": {
  "kernelspec": {
   "display_name": "Python 3",
   "language": "python",
   "name": "python3"
  },
  "language_info": {
   "codemirror_mode": {
    "name": "ipython",
    "version": 3
   },
   "file_extension": ".py",
   "mimetype": "text/x-python",
   "name": "python",
   "nbconvert_exporter": "python",
   "pygments_lexer": "ipython3",
   "version": "3.8.5"
  }
 },
 "nbformat": 4,
 "nbformat_minor": 4
}
